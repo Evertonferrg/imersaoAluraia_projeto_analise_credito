{
  "nbformat": 4,
  "nbformat_minor": 0,
  "metadata": {
    "colab": {
      "provenance": [],
      "authorship_tag": "ABX9TyManaiiWjb/UOB3n4jY98sL",
      "include_colab_link": true
    },
    "kernelspec": {
      "name": "python3",
      "display_name": "Python 3"
    },
    "language_info": {
      "name": "python"
    }
  },
  "cells": [
    {
      "cell_type": "markdown",
      "metadata": {
        "id": "view-in-github",
        "colab_type": "text"
      },
      "source": [
        "<a href=\"https://colab.research.google.com/github/Evertonferrg/imersaoAluraia_projeto_analise_credito/blob/main/imersaoalura_sistema_analise_credito.ipynb\" target=\"_parent\"><img src=\"https://colab.research.google.com/assets/colab-badge.svg\" alt=\"Open In Colab\"/></a>"
      ]
    },
    {
      "cell_type": "code",
      "source": [
        "!pip -q install google-genai"
      ],
      "metadata": {
        "id": "CDhMgSnvuZZl"
      },
      "execution_count": null,
      "outputs": []
    },
    {
      "cell_type": "code",
      "source": [
        "!pip install google-generativeai pandas altair"
      ],
      "metadata": {
        "collapsed": true,
        "id": "vIUs2Q_iwKNE",
        "colab": {
          "base_uri": "https://localhost:8080/"
        },
        "outputId": "166bed9e-bbda-4870-f81e-ffa7f96c63e6"
      },
      "execution_count": null,
      "outputs": [
        {
          "output_type": "stream",
          "name": "stdout",
          "text": [
            "Requirement already satisfied: google-generativeai in /usr/local/lib/python3.11/dist-packages (0.8.5)\n",
            "Requirement already satisfied: pandas in /usr/local/lib/python3.11/dist-packages (2.2.2)\n",
            "Requirement already satisfied: altair in /usr/local/lib/python3.11/dist-packages (5.5.0)\n",
            "Requirement already satisfied: google-ai-generativelanguage==0.6.15 in /usr/local/lib/python3.11/dist-packages (from google-generativeai) (0.6.15)\n",
            "Requirement already satisfied: google-api-core in /usr/local/lib/python3.11/dist-packages (from google-generativeai) (2.24.2)\n",
            "Requirement already satisfied: google-api-python-client in /usr/local/lib/python3.11/dist-packages (from google-generativeai) (2.169.0)\n",
            "Requirement already satisfied: google-auth>=2.15.0 in /usr/local/lib/python3.11/dist-packages (from google-generativeai) (2.38.0)\n",
            "Requirement already satisfied: protobuf in /usr/local/lib/python3.11/dist-packages (from google-generativeai) (5.29.4)\n",
            "Requirement already satisfied: pydantic in /usr/local/lib/python3.11/dist-packages (from google-generativeai) (2.11.4)\n",
            "Requirement already satisfied: tqdm in /usr/local/lib/python3.11/dist-packages (from google-generativeai) (4.67.1)\n",
            "Requirement already satisfied: typing-extensions in /usr/local/lib/python3.11/dist-packages (from google-generativeai) (4.13.2)\n",
            "Requirement already satisfied: proto-plus<2.0.0dev,>=1.22.3 in /usr/local/lib/python3.11/dist-packages (from google-ai-generativelanguage==0.6.15->google-generativeai) (1.26.1)\n",
            "Requirement already satisfied: numpy>=1.23.2 in /usr/local/lib/python3.11/dist-packages (from pandas) (2.0.2)\n",
            "Requirement already satisfied: python-dateutil>=2.8.2 in /usr/local/lib/python3.11/dist-packages (from pandas) (2.9.0.post0)\n",
            "Requirement already satisfied: pytz>=2020.1 in /usr/local/lib/python3.11/dist-packages (from pandas) (2025.2)\n",
            "Requirement already satisfied: tzdata>=2022.7 in /usr/local/lib/python3.11/dist-packages (from pandas) (2025.2)\n",
            "Requirement already satisfied: jinja2 in /usr/local/lib/python3.11/dist-packages (from altair) (3.1.6)\n",
            "Requirement already satisfied: jsonschema>=3.0 in /usr/local/lib/python3.11/dist-packages (from altair) (4.23.0)\n",
            "Requirement already satisfied: narwhals>=1.14.2 in /usr/local/lib/python3.11/dist-packages (from altair) (1.39.0)\n",
            "Requirement already satisfied: packaging in /usr/local/lib/python3.11/dist-packages (from altair) (24.2)\n",
            "Requirement already satisfied: googleapis-common-protos<2.0.0,>=1.56.2 in /usr/local/lib/python3.11/dist-packages (from google-api-core->google-generativeai) (1.70.0)\n",
            "Requirement already satisfied: requests<3.0.0,>=2.18.0 in /usr/local/lib/python3.11/dist-packages (from google-api-core->google-generativeai) (2.32.3)\n",
            "Requirement already satisfied: cachetools<6.0,>=2.0.0 in /usr/local/lib/python3.11/dist-packages (from google-auth>=2.15.0->google-generativeai) (5.5.2)\n",
            "Requirement already satisfied: pyasn1-modules>=0.2.1 in /usr/local/lib/python3.11/dist-packages (from google-auth>=2.15.0->google-generativeai) (0.4.2)\n",
            "Requirement already satisfied: rsa<5,>=3.1.4 in /usr/local/lib/python3.11/dist-packages (from google-auth>=2.15.0->google-generativeai) (4.9.1)\n",
            "Requirement already satisfied: attrs>=22.2.0 in /usr/local/lib/python3.11/dist-packages (from jsonschema>=3.0->altair) (25.3.0)\n",
            "Requirement already satisfied: jsonschema-specifications>=2023.03.6 in /usr/local/lib/python3.11/dist-packages (from jsonschema>=3.0->altair) (2025.4.1)\n",
            "Requirement already satisfied: referencing>=0.28.4 in /usr/local/lib/python3.11/dist-packages (from jsonschema>=3.0->altair) (0.36.2)\n",
            "Requirement already satisfied: rpds-py>=0.7.1 in /usr/local/lib/python3.11/dist-packages (from jsonschema>=3.0->altair) (0.24.0)\n",
            "Requirement already satisfied: six>=1.5 in /usr/local/lib/python3.11/dist-packages (from python-dateutil>=2.8.2->pandas) (1.17.0)\n",
            "Requirement already satisfied: httplib2<1.0.0,>=0.19.0 in /usr/local/lib/python3.11/dist-packages (from google-api-python-client->google-generativeai) (0.22.0)\n",
            "Requirement already satisfied: google-auth-httplib2<1.0.0,>=0.2.0 in /usr/local/lib/python3.11/dist-packages (from google-api-python-client->google-generativeai) (0.2.0)\n",
            "Requirement already satisfied: uritemplate<5,>=3.0.1 in /usr/local/lib/python3.11/dist-packages (from google-api-python-client->google-generativeai) (4.1.1)\n",
            "Requirement already satisfied: MarkupSafe>=2.0 in /usr/local/lib/python3.11/dist-packages (from jinja2->altair) (3.0.2)\n",
            "Requirement already satisfied: annotated-types>=0.6.0 in /usr/local/lib/python3.11/dist-packages (from pydantic->google-generativeai) (0.7.0)\n",
            "Requirement already satisfied: pydantic-core==2.33.2 in /usr/local/lib/python3.11/dist-packages (from pydantic->google-generativeai) (2.33.2)\n",
            "Requirement already satisfied: typing-inspection>=0.4.0 in /usr/local/lib/python3.11/dist-packages (from pydantic->google-generativeai) (0.4.0)\n",
            "Requirement already satisfied: grpcio<2.0dev,>=1.33.2 in /usr/local/lib/python3.11/dist-packages (from google-api-core[grpc]!=2.0.*,!=2.1.*,!=2.10.*,!=2.2.*,!=2.3.*,!=2.4.*,!=2.5.*,!=2.6.*,!=2.7.*,!=2.8.*,!=2.9.*,<3.0.0dev,>=1.34.1->google-ai-generativelanguage==0.6.15->google-generativeai) (1.71.0)\n",
            "Requirement already satisfied: grpcio-status<2.0.dev0,>=1.33.2 in /usr/local/lib/python3.11/dist-packages (from google-api-core[grpc]!=2.0.*,!=2.1.*,!=2.10.*,!=2.2.*,!=2.3.*,!=2.4.*,!=2.5.*,!=2.6.*,!=2.7.*,!=2.8.*,!=2.9.*,<3.0.0dev,>=1.34.1->google-ai-generativelanguage==0.6.15->google-generativeai) (1.71.0)\n",
            "Requirement already satisfied: pyparsing!=3.0.0,!=3.0.1,!=3.0.2,!=3.0.3,<4,>=2.4.2 in /usr/local/lib/python3.11/dist-packages (from httplib2<1.0.0,>=0.19.0->google-api-python-client->google-generativeai) (3.2.3)\n",
            "Requirement already satisfied: pyasn1<0.7.0,>=0.6.1 in /usr/local/lib/python3.11/dist-packages (from pyasn1-modules>=0.2.1->google-auth>=2.15.0->google-generativeai) (0.6.1)\n",
            "Requirement already satisfied: charset-normalizer<4,>=2 in /usr/local/lib/python3.11/dist-packages (from requests<3.0.0,>=2.18.0->google-api-core->google-generativeai) (3.4.2)\n",
            "Requirement already satisfied: idna<4,>=2.5 in /usr/local/lib/python3.11/dist-packages (from requests<3.0.0,>=2.18.0->google-api-core->google-generativeai) (3.10)\n",
            "Requirement already satisfied: urllib3<3,>=1.21.1 in /usr/local/lib/python3.11/dist-packages (from requests<3.0.0,>=2.18.0->google-api-core->google-generativeai) (2.4.0)\n",
            "Requirement already satisfied: certifi>=2017.4.17 in /usr/local/lib/python3.11/dist-packages (from requests<3.0.0,>=2.18.0->google-api-core->google-generativeai) (2025.4.26)\n"
          ]
        }
      ]
    },
    {
      "cell_type": "code",
      "source": [
        "!pip install google-adk\n"
      ],
      "metadata": {
        "collapsed": true,
        "id": "HuKqeReKwiTL"
      },
      "execution_count": null,
      "outputs": []
    },
    {
      "cell_type": "code",
      "source": [
        "!pip install pandas altair"
      ],
      "metadata": {
        "colab": {
          "base_uri": "https://localhost:8080/"
        },
        "collapsed": true,
        "id": "SApDdrjHwtLC",
        "outputId": "30d3091e-e96d-4cdf-eab9-f5281f5eccff"
      },
      "execution_count": null,
      "outputs": [
        {
          "output_type": "stream",
          "name": "stdout",
          "text": [
            "Requirement already satisfied: pandas in /usr/local/lib/python3.11/dist-packages (2.2.2)\n",
            "Requirement already satisfied: altair in /usr/local/lib/python3.11/dist-packages (5.5.0)\n",
            "Requirement already satisfied: numpy>=1.23.2 in /usr/local/lib/python3.11/dist-packages (from pandas) (2.0.2)\n",
            "Requirement already satisfied: python-dateutil>=2.8.2 in /usr/local/lib/python3.11/dist-packages (from pandas) (2.9.0.post0)\n",
            "Requirement already satisfied: pytz>=2020.1 in /usr/local/lib/python3.11/dist-packages (from pandas) (2025.2)\n",
            "Requirement already satisfied: tzdata>=2022.7 in /usr/local/lib/python3.11/dist-packages (from pandas) (2025.2)\n",
            "Requirement already satisfied: jinja2 in /usr/local/lib/python3.11/dist-packages (from altair) (3.1.6)\n",
            "Requirement already satisfied: jsonschema>=3.0 in /usr/local/lib/python3.11/dist-packages (from altair) (4.23.0)\n",
            "Requirement already satisfied: narwhals>=1.14.2 in /usr/local/lib/python3.11/dist-packages (from altair) (1.39.0)\n",
            "Requirement already satisfied: packaging in /usr/local/lib/python3.11/dist-packages (from altair) (24.2)\n",
            "Requirement already satisfied: typing-extensions>=4.10.0 in /usr/local/lib/python3.11/dist-packages (from altair) (4.13.2)\n",
            "Requirement already satisfied: attrs>=22.2.0 in /usr/local/lib/python3.11/dist-packages (from jsonschema>=3.0->altair) (25.3.0)\n",
            "Requirement already satisfied: jsonschema-specifications>=2023.03.6 in /usr/local/lib/python3.11/dist-packages (from jsonschema>=3.0->altair) (2025.4.1)\n",
            "Requirement already satisfied: referencing>=0.28.4 in /usr/local/lib/python3.11/dist-packages (from jsonschema>=3.0->altair) (0.36.2)\n",
            "Requirement already satisfied: rpds-py>=0.7.1 in /usr/local/lib/python3.11/dist-packages (from jsonschema>=3.0->altair) (0.24.0)\n",
            "Requirement already satisfied: six>=1.5 in /usr/local/lib/python3.11/dist-packages (from python-dateutil>=2.8.2->pandas) (1.17.0)\n",
            "Requirement already satisfied: MarkupSafe>=2.0 in /usr/local/lib/python3.11/dist-packages (from jinja2->altair) (3.0.2)\n"
          ]
        }
      ]
    },
    {
      "cell_type": "code",
      "source": [
        "!pip install google-generativeai"
      ],
      "metadata": {
        "colab": {
          "base_uri": "https://localhost:8080/"
        },
        "collapsed": true,
        "id": "GPQKSMkHwzDk",
        "outputId": "89046081-815a-4526-e37a-150fe963ec8d"
      },
      "execution_count": null,
      "outputs": [
        {
          "output_type": "stream",
          "name": "stdout",
          "text": [
            "Requirement already satisfied: google-generativeai in /usr/local/lib/python3.11/dist-packages (0.8.5)\n",
            "Requirement already satisfied: google-ai-generativelanguage==0.6.15 in /usr/local/lib/python3.11/dist-packages (from google-generativeai) (0.6.15)\n",
            "Requirement already satisfied: google-api-core in /usr/local/lib/python3.11/dist-packages (from google-generativeai) (2.24.2)\n",
            "Requirement already satisfied: google-api-python-client in /usr/local/lib/python3.11/dist-packages (from google-generativeai) (2.169.0)\n",
            "Requirement already satisfied: google-auth>=2.15.0 in /usr/local/lib/python3.11/dist-packages (from google-generativeai) (2.38.0)\n",
            "Requirement already satisfied: protobuf in /usr/local/lib/python3.11/dist-packages (from google-generativeai) (5.29.4)\n",
            "Requirement already satisfied: pydantic in /usr/local/lib/python3.11/dist-packages (from google-generativeai) (2.11.4)\n",
            "Requirement already satisfied: tqdm in /usr/local/lib/python3.11/dist-packages (from google-generativeai) (4.67.1)\n",
            "Requirement already satisfied: typing-extensions in /usr/local/lib/python3.11/dist-packages (from google-generativeai) (4.13.2)\n",
            "Requirement already satisfied: proto-plus<2.0.0dev,>=1.22.3 in /usr/local/lib/python3.11/dist-packages (from google-ai-generativelanguage==0.6.15->google-generativeai) (1.26.1)\n",
            "Requirement already satisfied: googleapis-common-protos<2.0.0,>=1.56.2 in /usr/local/lib/python3.11/dist-packages (from google-api-core->google-generativeai) (1.70.0)\n",
            "Requirement already satisfied: requests<3.0.0,>=2.18.0 in /usr/local/lib/python3.11/dist-packages (from google-api-core->google-generativeai) (2.32.3)\n",
            "Requirement already satisfied: cachetools<6.0,>=2.0.0 in /usr/local/lib/python3.11/dist-packages (from google-auth>=2.15.0->google-generativeai) (5.5.2)\n",
            "Requirement already satisfied: pyasn1-modules>=0.2.1 in /usr/local/lib/python3.11/dist-packages (from google-auth>=2.15.0->google-generativeai) (0.4.2)\n",
            "Requirement already satisfied: rsa<5,>=3.1.4 in /usr/local/lib/python3.11/dist-packages (from google-auth>=2.15.0->google-generativeai) (4.9.1)\n",
            "Requirement already satisfied: httplib2<1.0.0,>=0.19.0 in /usr/local/lib/python3.11/dist-packages (from google-api-python-client->google-generativeai) (0.22.0)\n",
            "Requirement already satisfied: google-auth-httplib2<1.0.0,>=0.2.0 in /usr/local/lib/python3.11/dist-packages (from google-api-python-client->google-generativeai) (0.2.0)\n",
            "Requirement already satisfied: uritemplate<5,>=3.0.1 in /usr/local/lib/python3.11/dist-packages (from google-api-python-client->google-generativeai) (4.1.1)\n",
            "Requirement already satisfied: annotated-types>=0.6.0 in /usr/local/lib/python3.11/dist-packages (from pydantic->google-generativeai) (0.7.0)\n",
            "Requirement already satisfied: pydantic-core==2.33.2 in /usr/local/lib/python3.11/dist-packages (from pydantic->google-generativeai) (2.33.2)\n",
            "Requirement already satisfied: typing-inspection>=0.4.0 in /usr/local/lib/python3.11/dist-packages (from pydantic->google-generativeai) (0.4.0)\n",
            "Requirement already satisfied: grpcio<2.0dev,>=1.33.2 in /usr/local/lib/python3.11/dist-packages (from google-api-core[grpc]!=2.0.*,!=2.1.*,!=2.10.*,!=2.2.*,!=2.3.*,!=2.4.*,!=2.5.*,!=2.6.*,!=2.7.*,!=2.8.*,!=2.9.*,<3.0.0dev,>=1.34.1->google-ai-generativelanguage==0.6.15->google-generativeai) (1.71.0)\n",
            "Requirement already satisfied: grpcio-status<2.0.dev0,>=1.33.2 in /usr/local/lib/python3.11/dist-packages (from google-api-core[grpc]!=2.0.*,!=2.1.*,!=2.10.*,!=2.2.*,!=2.3.*,!=2.4.*,!=2.5.*,!=2.6.*,!=2.7.*,!=2.8.*,!=2.9.*,<3.0.0dev,>=1.34.1->google-ai-generativelanguage==0.6.15->google-generativeai) (1.71.0)\n",
            "Requirement already satisfied: pyparsing!=3.0.0,!=3.0.1,!=3.0.2,!=3.0.3,<4,>=2.4.2 in /usr/local/lib/python3.11/dist-packages (from httplib2<1.0.0,>=0.19.0->google-api-python-client->google-generativeai) (3.2.3)\n",
            "Requirement already satisfied: pyasn1<0.7.0,>=0.6.1 in /usr/local/lib/python3.11/dist-packages (from pyasn1-modules>=0.2.1->google-auth>=2.15.0->google-generativeai) (0.6.1)\n",
            "Requirement already satisfied: charset-normalizer<4,>=2 in /usr/local/lib/python3.11/dist-packages (from requests<3.0.0,>=2.18.0->google-api-core->google-generativeai) (3.4.2)\n",
            "Requirement already satisfied: idna<4,>=2.5 in /usr/local/lib/python3.11/dist-packages (from requests<3.0.0,>=2.18.0->google-api-core->google-generativeai) (3.10)\n",
            "Requirement already satisfied: urllib3<3,>=1.21.1 in /usr/local/lib/python3.11/dist-packages (from requests<3.0.0,>=2.18.0->google-api-core->google-generativeai) (2.4.0)\n",
            "Requirement already satisfied: certifi>=2017.4.17 in /usr/local/lib/python3.11/dist-packages (from requests<3.0.0,>=2.18.0->google-api-core->google-generativeai) (2025.4.26)\n"
          ]
        }
      ]
    },
    {
      "cell_type": "code",
      "execution_count": null,
      "metadata": {
        "id": "W1nPbYGduFMP"
      },
      "outputs": [],
      "source": [
        "import os\n",
        "from google.colab import userdata\n",
        "from google import genai\n",
        "from IPython.display import HTML, Markdown\n",
        "from google.adk.agents import Agent\n",
        "from google.adk.runners import Runner\n",
        "from google.adk.sessions import InMemorySessionService\n",
        "from google.adk.tools import google_search\n",
        "from google.genai import types\n",
        "from datetime import date\n",
        "import textwrap\n",
        "import warnings\n",
        "import pandas as pd  # Para criar o gráfico de riscos\n",
        "import altair as alt # Para criar o gráfico de riscos\n",
        "\n",
        "warnings.filterwarnings(\"ignore\")\n",
        "\n"
      ]
    },
    {
      "cell_type": "code",
      "source": [
        "import os\n",
        "from google.colab import userdata\n",
        "\n",
        "os.environ[\"GOOGLE_API_KEY\"] = userdata.get('GOOGLE_API_KEY')\n"
      ],
      "metadata": {
        "id": "jk_JnqVfvF8S"
      },
      "execution_count": null,
      "outputs": []
    },
    {
      "cell_type": "code",
      "source": [
        "# configura o cliente da SDK do Gemini\n",
        "\n",
        "from google import genai\n",
        "\n",
        "client = genai.Client()\n",
        "\n",
        "MODEL_ID = \"gemini-2.0-flash\""
      ],
      "metadata": {
        "id": "UffWKaLXuiIz"
      },
      "execution_count": null,
      "outputs": []
    },
    {
      "cell_type": "code",
      "source": [
        "# Funcao auxiliar para enviar mensagem ao agente\n",
        "def call_agent(agent: Agent, message_text: str) -> str:\n",
        "    session_service = InMemorySessionService()\n",
        "    session = session_service.create_session(app_name=agent.name, user_id=\"user1\", session_id=\"session1\")\n",
        "    runner = Runner(agent=agent, app_name=agent.name, session_service=session_service)\n",
        "    content = types.Content(role=\"user\", parts=[types.Part(text=message_text)])\n",
        "\n",
        "    final_response = \"\"\n",
        "    for event in runner.run(user_id=\"user1\", session_id=\"session1\", new_message=content):\n",
        "        if event.is_final_response():\n",
        "            for part in event.content.parts:\n",
        "                if part.text is not None:\n",
        "                    final_response += part.text\n",
        "                    final_response += \"\\n\"\n",
        "    return final_response"
      ],
      "metadata": {
        "id": "7B9pCH0awG5X"
      },
      "execution_count": null,
      "outputs": []
    },
    {
      "cell_type": "code",
      "source": [
        "# Funcção auxiliar para exibir texto formatado\n",
        "def to_markdown(text):\n",
        "    text = text.replace('•', '  *')\n",
        "    return Markdown(textwrap.indent(text, '> ', predicate=lambda _: True))\n",
        "\n",
        "\n",
        "def buscar_info_empresa(nome_ou_cnpj):\n",
        "    \"\"\"\n",
        "    Agente para buscar informações públicas da empresa usando o Google.\n",
        "    \"\"\"\n",
        "    agente_busca_empresa = Agent(\n",
        "        name=\"agente_busca_empresa\",\n",
        "        model=MODEL_ID, # Correção: Use MODEL_ID em vez de MODEL\n",
        "        instruction=\"\"\"\n",
        "            Você é um especialista em análise de crédito e deve buscar informações\n",
        "            públicas e relevantes sobre a empresa fornecida. A busca deve ser feita\n",
        "            usando o nome ou CNPJ da empresa. Foque em informações como:\n",
        "\n",
        "            -   Situação cadastral (Ativa, Inativa, etc.)\n",
        "            -   Data de abertura\n",
        "            -   Endereço\n",
        "            -   Telefone\n",
        "            -   E-mail\n",
        "            -   Atividade econômica principal e secundárias\n",
        "            -   Capital social\n",
        "            -   Quadro de sócios e administradores (QSA)\n",
        "            -   Faturamento dos últimos 3 anos (se disponível publicamente)\n",
        "            -   Endividamento (se disponível publicamente)\n",
        "            -   Processos judiciais e dívidas (se disponíveis publicamente)\n",
        "            -   Notícias recentes e relevantes sobre a empresa\n",
        "            -   Avaliação de clientes (se disponível publicamente)\n",
        "\n",
        "            Apresente as informações de forma clara e organizada.\n",
        "            Se não encontrar uma informação, mencione que não foi encontrada.\n",
        "        \"\"\",\n",
        "       description=\"Agente que busca informações sobre empresas\",\n",
        "        tools=[google_search]\n",
        "    )\n",
        "    entrada_busca = f\"Nome ou CNPJ da empresa: {nome_ou_cnpj}\"\n",
        "    return call_agent(agente_busca_empresa, entrada_busca)"
      ],
      "metadata": {
        "id": "Q9D_zq7b8sCj"
      },
      "execution_count": null,
      "outputs": []
    },
    {
      "cell_type": "code",
      "source": [
        "def coletar_informacoes_manuais():\n",
        "    \"\"\"\n",
        "    Função para coletar informações da empresa diretamente do usuário.\n",
        "    \"\"\"\n",
        "    informacoes = {}\n",
        "    informacoes['nome_empresa'] = input(\"Nome da Empresa: \")\n",
        "    informacoes['cnpj'] = input(\"CNPJ: \")\n",
        "    informacoes['situacao_cadastral'] = input(\"Situação Cadastral: \")\n",
        "    informacoes['data_abertura'] = input(\"Data de Abertura: \")\n",
        "    informacoes['endereco'] = input(\"Endereço: \")\n",
        "    informacoes['telefone'] = input(\"Telefone: \")\n",
        "    informacoes['email'] = input(\"E-mail: \")\n",
        "    informacoes['atividade_principal'] = input(\"Atividade Econômica Principal: \")\n",
        "    informacoes['atividades_secundarias'] = input(\"Atividades Econômicas Secundárias: \")\n",
        "    informacoes['capital_social'] = input(\"Capital Social: \")\n",
        "    informacoes['qsa'] = input(\"Quadro de Sócios e Administradores (QSA): \")\n",
        "    informacoes['faturamento_ultimos_3_anos'] = input(\"Faturamento dos Últimos 3 Anos: \")\n",
        "    informacoes['endividamento'] = input(\"Endividamento: \")\n",
        "    informacoes['processos_judiciais_dividas'] = input(\"Processos Judiciais e Dívidas: \")\n",
        "    informacoes['noticias_relevantes'] = input(\"Notícias Recentes e Relevantes: \")\n",
        "    informacoes['avaliacao_clientes'] = input(\"Avaliação de Clientes: \")\n",
        "    return informacoes\n"
      ],
      "metadata": {
        "id": "A4SGhRRN_E-4"
      },
      "execution_count": null,
      "outputs": []
    },
    {
      "cell_type": "code",
      "source": [
        "def avaliar_risco_credito(informacoes):\n",
        "    \"\"\"\n",
        "    Agente para avaliar o risco de crédito da empresa.\n",
        "    \"\"\"\n",
        "    agente_avaliacao_risco = Agent(\n",
        "        name=\"agente_avaliacao_risco\",\n",
        "        model=MODEL_ID,\n",
        "        instruction=\"\"\"\n",
        "            Você é um especialista em análise de crédito e deve avaliar o risco de crédito\n",
        "            de uma empresa com base nas informações fornecidas. Considere os seguintes fatores:\n",
        "\n",
        "            -   **Situação Cadastral:** Empresas com situação irregular (Inativa, Suspensa, etc.)\n",
        "                representam maior risco.\n",
        "            -   **Tempo de Atividade:** Empresas mais novas podem ter histórico financeiro limitado,\n",
        "                aumentando o risco.\n",
        "            -   **Endividamento:** Níveis elevados de endividamento indicam maior dificuldade em\n",
        "                honrar compromissos financeiros.\n",
        "            -   **Faturamento:** O faturamento deve ser suficiente para cobrir as despesas e gerar lucro.\n",
        "            -   **Processos Judiciais e Dívidas:** A existência de processos e dívidas pode comprometer\n",
        "                a capacidade de pagamento da empresa.\n",
        "            -   **Setor de Atuação:** Alguns setores são mais voláteis e podem apresentar maior risco.\n",
        "            -   **Avaliação de Clientes:** Avaliações negativas podem indicar problemas na gestão ou\n",
        "                na qualidade dos produtos/serviços.\n",
        "            -   **Capital Social:** Um capital social robusto pode indicar maior capacidade da empresa\n",
        "                de arcar com suas obrigações.\n",
        "            -   **QSA:** A experiência e reputação dos sócios e administradores são importantes.\n",
        "            -   **Notícias Recentes:** Notícias negativas podem afetar a imagem e a saúde financeira da empresa.\n",
        "\n",
        "            Atribua uma nota de risco de 1 a 5, onde 1 é risco muito baixo e 5 é risco muito alto.\n",
        "            Apresente a nota de risco em uma linha e a justificativa em outra.\n",
        "        \"\"\",\n",
        "        description=\"Agente que avalia o risco de crédito de uma empresa\",\n",
        "    )\n",
        "    entrada_avaliacao = f\"Informações da Empresa: {informacoes}\"\n",
        "    return call_agent(agente_avaliacao_risco, entrada_avaliacao)"
      ],
      "metadata": {
        "id": "kkIs74PR_n18"
      },
      "execution_count": null,
      "outputs": []
    },
    {
      "cell_type": "code",
      "source": [
        "def gerar_relatorio_credito(nome_empresa, avaliacao_risco, justificativa_risco, informacoes):\n",
        "    \"\"\"\n",
        "    Função para gerar um relatório de crédito completo.\n",
        "    \"\"\"\n",
        "\n",
        "    relatorio = f\"\"\"\n",
        "    ## Relatório de Análise de Crédito\n",
        "\n",
        "    **Nome da Empresa:** {nome_empresa}\n",
        "\n",
        "    ### Avaliação de Risco de Crédito\n",
        "    -   **Nota de Risco:** {avaliacao_risco} (1 - Risco Muito Baixo, 5 - Risco Muito Alto)\n",
        "    -   **Justificativa:** {justificativa_risco}\n",
        "\n",
        "    ### Decisão sobre Aumento de Crédito\n",
        "    Com base na análise das informações disponíveis, a recomendação é:\n",
        "    \"\"\"\n",
        "    if avaliacao_risco <= 2:\n",
        "        relatorio += \"**Conceder o aumento de crédito.** A empresa apresenta baixo risco e boa capacidade de pagamento.\"\n",
        "    elif avaliacao_risco <= 3:\n",
        "        relatorio += \"**Avaliar com cautela o aumento de crédito.** A empresa apresenta risco moderado. Recomenda-se uma análise mais aprofundada.\"\n",
        "    else:\n",
        "        relatorio += \"**Não conceder o aumento de crédito.** A empresa apresenta alto risco de inadimplência.\"\n",
        "\n",
        "    relatorio += \"\"\"\n",
        "\n",
        "    ### Informações Detalhadas da Empresa:\n",
        "    \"\"\"\n",
        "    for chave, valor in informacoes.items():\n",
        "        relatorio += f\"-   **{chave.capitalize()}:** {valor}\\n\"\n",
        "\n",
        "    return relatorio\n"
      ],
      "metadata": {
        "id": "4N2PylJ5BVNG"
      },
      "execution_count": null,
      "outputs": []
    },
    {
      "cell_type": "code",
      "source": [
        "def gerar_grafico_risco(avaliacao_risco):\n",
        "    \"\"\"\n",
        "    Função para gerar um gráfico de risco usando Altair.\n",
        "    \"\"\"\n",
        "    # Define os dados para o gráfico\n",
        "    data = pd.DataFrame({'Risco': ['Risco'], 'Nota': [avaliacao_risco]})\n",
        "\n",
        "    # Define a escala de cores\n",
        "    color_scale = alt.Scale(domain=[1, 2, 3, 4, 5],\n",
        "                            range=['green', 'blue', 'yellow', 'orange', 'red'])\n",
        "\n",
        "    # Cria o gráfico de barras\n",
        "    chart = alt.Chart(data).mark_bar().encode(\n",
        "        x=alt.X('Risco', axis=None), # Remove o rótulo do eixo x\n",
        "        y=alt.Y('Nota', title='Nota de Risco'),\n",
        "        color=alt.Color('Nota', scale=color_scale),\n",
        "        tooltip=['Nota']\n",
        "    ).properties(\n",
        "        title='Gráfico de Risco de Crédito'\n",
        "    )\n",
        "\n",
        "    # Adiciona rótulos ao gráfico\n",
        "    text = chart.mark_text(\n",
        "        align='center',\n",
        "        baseline='middle',\n",
        "        dy=-5  # Ajusta a posição vertical do texto\n",
        "    ).encode(\n",
        "        text='Nota'\n",
        "    )\n",
        "\n",
        "    # Combina o gráfico de barras com os rótulos\n",
        "    final_chart = chart + text\n",
        "\n",
        "    # Salva o gráfico em um arquivo JSON\n",
        "    final_chart.save('grafico_risco_credito.json')\n",
        "    return final_chart\n",
        "    #return HTML(final_chart.to_html()) # Exibe o gráfico no Colab"
      ],
      "metadata": {
        "id": "nPfKs20rCApS"
      },
      "execution_count": null,
      "outputs": []
    },
    {
      "cell_type": "code",
      "source": [
        "def main():\n",
        "    \"\"\"\n",
        "    Função principal para executar o sistema de análise de crédito.\n",
        "    \"\"\"\n",
        "    data_de_hoje = date.today().strftime(\"%d/%m/%Y\")\n",
        "    print(\"🚀 Iniciando o Sistema de Análise de Crédito 🚀\")\n",
        "\n",
        "    # --- Obter informações da empresa ---\n",
        "    opcao = input(\"❓ Deseja buscar informações da empresa pelo nome/CNPJ (1) ou fornecer as informações manualmente (2)? Digite 1 ou 2: \")\n",
        "    if opcao == \"1\":\n",
        "        nome_ou_cnpj = input(\"Digite o Nome ou CNPJ da empresa: \")\n",
        "        info_empresa = buscar_info_empresa(nome_ou_cnpj)\n",
        "        print(\"\\n--- 📝 Resultado da Busca de Informações da Empresa ---\\n\")\n",
        "        display(to_markdown(info_empresa))\n",
        "        print(\"--------------------------------------------------------------\")\n",
        "        # Converter a string para dicionário\n",
        "        info_empresa_dict = {}\n",
        "        for linha in info_empresa.split('\\n'):\n",
        "            if \":\" in linha:\n",
        "                chave, valor = linha.split(\":\", 1)\n",
        "                info_empresa_dict[chave.strip().lower().replace(\" \", \"_\")] = valor.strip()\n",
        "    elif opcao == \"2\":\n",
        "        info_empresa_dict = coletar_informacoes_manuais()\n",
        "    else:\n",
        "        print(\"Opção inválida. Encerrando o programa.\")\n",
        "        return\n",
        "\n",
        "      # --- Avaliar o risco de crédito ---\n",
        "    avaliacao_risco_str = avaliar_risco_credito(info_empresa_dict)\n",
        "    partes = avaliacao_risco_str.split('\\n')\n",
        "    avaliacao_risco = partes[0].split(': ')[1]\n",
        "    justificativa_risco = partes[1].split(': ')[1]\n",
        "    avaliacao_risco = int(avaliacao_risco) # Converter avaliacao_risco para int\n",
        "    print(\"\\n--- 📝 Resultado da Avaliação de Risco de Crédito ---\\n\")\n",
        "    print(f\"Nota de Risco: {avaliacao_risco}\")\n",
        "    print(f\"Justificativa: {justificativa_risco}\")\n",
        "    print(\"--------------------------------------------------------------\")\n",
        "\n",
        "    # --- Gerar o relatório de crédito ---\n",
        "    nome_empresa = info_empresa_dict.get('nome_empresa', 'Nome da Empresa Não Informado')\n",
        "    relatorio_credito = gerar_relatorio_credito(nome_empresa, avaliacao_risco, justificativa_risco, info_empresa_dict)\n",
        "    print(\"\\n--- 📝 Relatório de Crédito ---\\n\")\n",
        "    display(to_markdown(relatorio_credito))\n",
        "    print(\"--------------------------------------------------------------\")\n",
        "\n",
        "    # --- Gerar o gráfico de risco ---\n",
        "    grafico_risco = gerar_grafico_risco(avaliacao_risco)\n",
        "    print(\"\\n--- 📊 Gráfico de Risco de Crédito ---\\n\")\n",
        "    display(grafico_risco) # Exibe o gráfico no Colab\n",
        "    print(\"--------------------------------------------------------------\")\n",
        "\n",
        "if __name__ == \"__main__\":\n",
        "    main()\n"
      ],
      "metadata": {
        "colab": {
          "base_uri": "https://localhost:8080/",
          "height": 1000
        },
        "id": "ehkpy8W1C-Vm",
        "outputId": "686dd466-2071-4158-9219-e802a09f97fd",
        "collapsed": true
      },
      "execution_count": null,
      "outputs": [
        {
          "output_type": "stream",
          "name": "stdout",
          "text": [
            "🚀 Iniciando o Sistema de Análise de Crédito 🚀\n",
            "❓ Deseja buscar informações da empresa pelo nome/CNPJ (1) ou fornecer as informações manualmente (2)? Digite 1 ou 2: 1\n",
            "Digite o Nome ou CNPJ da empresa: Google\n",
            "\n",
            "--- 📝 Resultado da Busca de Informações da Empresa ---\n",
            "\n"
          ]
        },
        {
          "output_type": "display_data",
          "data": {
            "text/plain": [
              "<IPython.core.display.Markdown object>"
            ],
            "text/markdown": "> Com base nas informações disponíveis, aqui está um resumo sobre a empresa Google:\n> \n> *   **Situação Cadastral:** Não foi encontrada informação direta sobre a situação cadastral da Google.\n> *   **Data de Abertura:** A Google foi fundada como empresa privada em 4 de setembro de 1998. O nome de domínio \"Google\" foi registrado em 15 de setembro de 1997.\n> *   **Endereço:** A sede da Google é no Googleplex, em Mountain View, Califórnia, Estados Unidos. A Google possui escritórios em cerca de 60 países.\n> *   **Telefone:** Não foi encontrado um número de telefone geral para contato com a Google.\n> *   **E-mail:** Não foi encontrado um e-mail geral para contato com a Google.\n> *   **Atividade Econômica Principal e Secundárias:** A Google atua nas áreas de internet, computação em nuvem, software, hardware, inteligência artificial e publicidade. A empresa lucra principalmente através da publicidade pelo AdWords.\n> *   **Capital Social:** Essa informação não foi encontrada.\n> *   **Quadro de Sócios e Administradores (QSA):** Os fundadores são Larry Page e Sergey Brin. O CEO atual do Google e da Alphabet é Sundar Pichai. Anat Ashkenazi é a CFO e Thomas Kurian é o CEO da Google Cloud.\n> *   **Faturamento dos Últimos 3 Anos:**\n> \n>     *   2021: A Alphabet (dona do Google) teve uma receita de US$ 257,637 bilhões e um lucro líquido de US$ 76,033 bilhões.\n>     *   2022: A receita do Google no terceiro trimestre foi de US$ 69,1 bilhões.\n>     *   2020: A empresa faturou 125,6 bilhões de dólares nos três primeiros trimestres.\n> *   **Endividamento:** Não foram encontradas informações sobre o endividamento da Google.\n> *   **Processos Judiciais e Dívidas:** Em maio de 2025, a justiça dos EUA determinou que o Google divida seu negócio de publicidade.\n> *   **Notícias Recentes e Relevantes sobre a Empresa:**\n> \n>     *   Maio de 2025: Hackers que atacaram varejistas do Reino Unido agora estão mirando nos EUA.\n>     *   Maio de 2025: O Google anunciou um novo visual para o Android 16.\n>     *   Maio de 2025: A justiça dos EUA determinou que o Google divida seu negócio de publicidade.\n> *   **Avaliação de Clientes:** O Google Avaliações do Consumidor é um serviço que permite que lojistas coletem feedback de clientes que fizeram compras online. As avaliações podem ser exibidas como classificações nos anúncios do Google Search e no Google Shopping.\n"
          },
          "metadata": {}
        },
        {
          "output_type": "stream",
          "name": "stdout",
          "text": [
            "--------------------------------------------------------------\n",
            "\n",
            "--- 📝 Resultado da Avaliação de Risco de Crédito ---\n",
            "\n",
            "Nota de Risco: 2\n",
            "Justificativa: Apesar do processo judicial e falta de informações sobre o endividamento e capital social, a Google possui um faturamento muito alto e é líder de mercado, o que indica um baixo risco de crédito.\n",
            "--------------------------------------------------------------\n",
            "\n",
            "--- 📝 Relatório de Crédito ---\n",
            "\n"
          ]
        },
        {
          "output_type": "display_data",
          "data": {
            "text/plain": [
              "<IPython.core.display.Markdown object>"
            ],
            "text/markdown": "> \n>     ## Relatório de Análise de Crédito\n> \n>     **Nome da Empresa:** Nome da Empresa Não Informado\n> \n>     ### Avaliação de Risco de Crédito\n>     -   **Nota de Risco:** 2 (1 - Risco Muito Baixo, 5 - Risco Muito Alto)\n>     -   **Justificativa:** Apesar do processo judicial e falta de informações sobre o endividamento e capital social, a Google possui um faturamento muito alto e é líder de mercado, o que indica um baixo risco de crédito.\n> \n>     ### Decisão sobre Aumento de Crédito\n>     Com base na análise das informações disponíveis, a recomendação é:\n>     **Conceder o aumento de crédito.** A empresa apresenta baixo risco e boa capacidade de pagamento.\n> \n>     ### Informações Detalhadas da Empresa:\n>     -   **Com_base_nas_informações_disponíveis,_aqui_está_um_resumo_sobre_a_empresa_google:** \n> -   ***___**situação_cadastral:** ** Não foi encontrada informação direta sobre a situação cadastral da Google.\n> -   ***___**data_de_abertura:** ** A Google foi fundada como empresa privada em 4 de setembro de 1998. O nome de domínio \"Google\" foi registrado em 15 de setembro de 1997.\n> -   ***___**endereço:** ** A sede da Google é no Googleplex, em Mountain View, Califórnia, Estados Unidos. A Google possui escritórios em cerca de 60 países.\n> -   ***___**telefone:** ** Não foi encontrado um número de telefone geral para contato com a Google.\n> -   ***___**e-mail:** ** Não foi encontrado um e-mail geral para contato com a Google.\n> -   ***___**atividade_econômica_principal_e_secundárias:** ** A Google atua nas áreas de internet, computação em nuvem, software, hardware, inteligência artificial e publicidade. A empresa lucra principalmente através da publicidade pelo AdWords.\n> -   ***___**capital_social:** ** Essa informação não foi encontrada.\n> -   ***___**quadro_de_sócios_e_administradores_(qsa):** ** Os fundadores são Larry Page e Sergey Brin. O CEO atual do Google e da Alphabet é Sundar Pichai. Anat Ashkenazi é a CFO e Thomas Kurian é o CEO da Google Cloud.\n> -   ***___**faturamento_dos_últimos_3_anos:** **\n> -   ***___2021:** A Alphabet (dona do Google) teve uma receita de US$ 257,637 bilhões e um lucro líquido de US$ 76,033 bilhões.\n> -   ***___2022:** A receita do Google no terceiro trimestre foi de US$ 69,1 bilhões.\n> -   ***___2020:** A empresa faturou 125,6 bilhões de dólares nos três primeiros trimestres.\n> -   ***___**endividamento:** ** Não foram encontradas informações sobre o endividamento da Google.\n> -   ***___**processos_judiciais_e_dívidas:** ** Em maio de 2025, a justiça dos EUA determinou que o Google divida seu negócio de publicidade.\n> -   ***___**notícias_recentes_e_relevantes_sobre_a_empresa:** **\n> -   ***___maio_de_2025:** A justiça dos EUA determinou que o Google divida seu negócio de publicidade.\n> -   ***___**avaliação_de_clientes:** ** O Google Avaliações do Consumidor é um serviço que permite que lojistas coletem feedback de clientes que fizeram compras online. As avaliações podem ser exibidas como classificações nos anúncios do Google Search e no Google Shopping.\n"
          },
          "metadata": {}
        },
        {
          "output_type": "stream",
          "name": "stdout",
          "text": [
            "--------------------------------------------------------------\n",
            "\n",
            "--- 📊 Gráfico de Risco de Crédito ---\n",
            "\n"
          ]
        },
        {
          "output_type": "display_data",
          "data": {
            "text/html": [
              "\n",
              "<style>\n",
              "  #altair-viz-61866c224e8b426990225099b7792982.vega-embed {\n",
              "    width: 100%;\n",
              "    display: flex;\n",
              "  }\n",
              "\n",
              "  #altair-viz-61866c224e8b426990225099b7792982.vega-embed details,\n",
              "  #altair-viz-61866c224e8b426990225099b7792982.vega-embed details summary {\n",
              "    position: relative;\n",
              "  }\n",
              "</style>\n",
              "<div id=\"altair-viz-61866c224e8b426990225099b7792982\"></div>\n",
              "<script type=\"text/javascript\">\n",
              "  var VEGA_DEBUG = (typeof VEGA_DEBUG == \"undefined\") ? {} : VEGA_DEBUG;\n",
              "  (function(spec, embedOpt){\n",
              "    let outputDiv = document.currentScript.previousElementSibling;\n",
              "    if (outputDiv.id !== \"altair-viz-61866c224e8b426990225099b7792982\") {\n",
              "      outputDiv = document.getElementById(\"altair-viz-61866c224e8b426990225099b7792982\");\n",
              "    }\n",
              "\n",
              "    const paths = {\n",
              "      \"vega\": \"https://cdn.jsdelivr.net/npm/vega@5?noext\",\n",
              "      \"vega-lib\": \"https://cdn.jsdelivr.net/npm/vega-lib?noext\",\n",
              "      \"vega-lite\": \"https://cdn.jsdelivr.net/npm/vega-lite@5.20.1?noext\",\n",
              "      \"vega-embed\": \"https://cdn.jsdelivr.net/npm/vega-embed@6?noext\",\n",
              "    };\n",
              "\n",
              "    function maybeLoadScript(lib, version) {\n",
              "      var key = `${lib.replace(\"-\", \"\")}_version`;\n",
              "      return (VEGA_DEBUG[key] == version) ?\n",
              "        Promise.resolve(paths[lib]) :\n",
              "        new Promise(function(resolve, reject) {\n",
              "          var s = document.createElement('script');\n",
              "          document.getElementsByTagName(\"head\")[0].appendChild(s);\n",
              "          s.async = true;\n",
              "          s.onload = () => {\n",
              "            VEGA_DEBUG[key] = version;\n",
              "            return resolve(paths[lib]);\n",
              "          };\n",
              "          s.onerror = () => reject(`Error loading script: ${paths[lib]}`);\n",
              "          s.src = paths[lib];\n",
              "        });\n",
              "    }\n",
              "\n",
              "    function showError(err) {\n",
              "      outputDiv.innerHTML = `<div class=\"error\" style=\"color:red;\">${err}</div>`;\n",
              "      throw err;\n",
              "    }\n",
              "\n",
              "    function displayChart(vegaEmbed) {\n",
              "      vegaEmbed(outputDiv, spec, embedOpt)\n",
              "        .catch(err => showError(`Javascript Error: ${err.message}<br>This usually means there's a typo in your chart specification. See the javascript console for the full traceback.`));\n",
              "    }\n",
              "\n",
              "    if(typeof define === \"function\" && define.amd) {\n",
              "      requirejs.config({paths});\n",
              "      let deps = [\"vega-embed\"];\n",
              "      require(deps, displayChart, err => showError(`Error loading script: ${err.message}`));\n",
              "    } else {\n",
              "      maybeLoadScript(\"vega\", \"5\")\n",
              "        .then(() => maybeLoadScript(\"vega-lite\", \"5.20.1\"))\n",
              "        .then(() => maybeLoadScript(\"vega-embed\", \"6\"))\n",
              "        .catch(showError)\n",
              "        .then(() => displayChart(vegaEmbed));\n",
              "    }\n",
              "  })({\"config\": {\"view\": {\"continuousWidth\": 300, \"continuousHeight\": 300}}, \"layer\": [{\"mark\": {\"type\": \"bar\"}, \"encoding\": {\"color\": {\"field\": \"Nota\", \"scale\": {\"domain\": [1, 2, 3, 4, 5], \"range\": [\"green\", \"blue\", \"yellow\", \"orange\", \"red\"]}, \"type\": \"quantitative\"}, \"tooltip\": [{\"field\": \"Nota\", \"type\": \"quantitative\"}], \"x\": {\"axis\": null, \"field\": \"Risco\", \"type\": \"nominal\"}, \"y\": {\"field\": \"Nota\", \"title\": \"Nota de Risco\", \"type\": \"quantitative\"}}, \"title\": \"Gr\\u00e1fico de Risco de Cr\\u00e9dito\"}, {\"mark\": {\"type\": \"text\", \"align\": \"center\", \"baseline\": \"middle\", \"dy\": -5}, \"encoding\": {\"color\": {\"field\": \"Nota\", \"scale\": {\"domain\": [1, 2, 3, 4, 5], \"range\": [\"green\", \"blue\", \"yellow\", \"orange\", \"red\"]}, \"type\": \"quantitative\"}, \"text\": {\"field\": \"Nota\", \"type\": \"quantitative\"}, \"tooltip\": [{\"field\": \"Nota\", \"type\": \"quantitative\"}], \"x\": {\"axis\": null, \"field\": \"Risco\", \"type\": \"nominal\"}, \"y\": {\"field\": \"Nota\", \"title\": \"Nota de Risco\", \"type\": \"quantitative\"}}, \"title\": \"Gr\\u00e1fico de Risco de Cr\\u00e9dito\"}], \"data\": {\"name\": \"data-68eff0a65e8fe80b35e7d5217c7bd71a\"}, \"$schema\": \"https://vega.github.io/schema/vega-lite/v5.20.1.json\", \"datasets\": {\"data-68eff0a65e8fe80b35e7d5217c7bd71a\": [{\"Risco\": \"Risco\", \"Nota\": 2}]}}, {\"mode\": \"vega-lite\"});\n",
              "</script>"
            ],
            "text/plain": [
              "alt.LayerChart(...)"
            ]
          },
          "metadata": {}
        },
        {
          "output_type": "stream",
          "name": "stdout",
          "text": [
            "--------------------------------------------------------------\n"
          ]
        }
      ]
    }
  ]
}